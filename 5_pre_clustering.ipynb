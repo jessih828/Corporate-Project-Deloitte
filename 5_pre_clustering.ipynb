{
 "cells": [
  {
   "cell_type": "code",
   "execution_count": 36,
   "metadata": {},
   "outputs": [],
   "source": [
    "import pandas as pd"
   ]
  },
  {
   "cell_type": "code",
   "execution_count": 37,
   "metadata": {},
   "outputs": [],
   "source": [
    "info_df = pd.read_excel('/Users/jessicahsieh/Documents/Deloitte Capstone/Data/customer_info.xlsx', sheet_name='Sheet1')\n",
    "econ_df = pd.read_excel('/Users/jessicahsieh/Documents/Deloitte Capstone/Data/customer_economics.xlsx')\n",
    "socio_df = pd.read_excel('/Users/jessicahsieh/Documents/Deloitte Capstone/Data/Sociodemographic.xlsx')"
   ]
  },
  {
   "cell_type": "code",
   "execution_count": 38,
   "metadata": {},
   "outputs": [],
   "source": [
    "customer_df = pd.merge(info_df, econ_df, on='ID', how='inner')"
   ]
  },
  {
   "cell_type": "code",
   "execution_count": 39,
   "metadata": {},
   "outputs": [],
   "source": [
    "customer_df.columns = customer_df.columns.str.strip().str.lower().str.replace('.', '_').str.replace(' ', '_')"
   ]
  },
  {
   "cell_type": "code",
   "execution_count": 40,
   "metadata": {},
   "outputs": [
    {
     "data": {
      "text/plain": [
       "4"
      ]
     },
     "execution_count": 40,
     "metadata": {},
     "output_type": "execute_result"
    }
   ],
   "source": [
    "customer_df.duplicated().sum()"
   ]
  },
  {
   "cell_type": "code",
   "execution_count": 41,
   "metadata": {},
   "outputs": [],
   "source": [
    "customer_df.drop_duplicates(subset='id', keep='first', inplace=True)"
   ]
  },
  {
   "cell_type": "code",
   "execution_count": 42,
   "metadata": {},
   "outputs": [],
   "source": [
    "customer_df.loc[customer_df['zip_code']==30000, 'city'] = 'Murcia'"
   ]
  },
  {
   "cell_type": "code",
   "execution_count": 43,
   "metadata": {},
   "outputs": [],
   "source": [
    "# if city name is A  CoruÃ±a, change it to A Coruña\n",
    "\n",
    "customer_df.loc[customer_df['city'] == 'A  CoruÃ±a', 'city'] = 'A Coruña'\n",
    "customer_df.loc[customer_df['city'] == 'A Coruna', 'city'] = 'A Coruña'\n",
    "\n",
    "# if city name is Bilb ao, change it to Bilbao\n",
    "\n",
    "customer_df.loc[customer_df['city'] == 'Bilb ao', 'city'] = 'Bilbao'\n",
    "customer_df.loc[customer_df['city'] == 'Bilbao ', 'city'] = 'Bilbao'\n",
    "\n",
    "# if city name is Valencia , change it to Valencia\n",
    "customer_df.loc[customer_df['city'] == 'Valencia ', 'city'] = 'Valencia'\n",
    "customer_df.loc[customer_df['city'] == 'Balencia', 'city'] = 'Palencia'\n",
    "\n",
    "# ifthe city name is Barcelona , change it to Barcelona\n",
    "\n",
    "customer_df.loc[customer_df['city'] == ' Barcelona', 'city'] = 'Barcelona'\n",
    "customer_df.loc[customer_df['city'] == ' Madrid', 'city'] = 'Madrid'\n",
    "# if zip code = 41000, then city = Sevilla\n",
    "\n",
    "customer_df.loc[customer_df['zip_code'] == 41000, 'city'] = 'Sevilla'"
   ]
  },
  {
   "cell_type": "code",
   "execution_count": 44,
   "metadata": {},
   "outputs": [],
   "source": [
    "customer_df['city'] = customer_df['city'].str.lower()"
   ]
  },
  {
   "cell_type": "code",
   "execution_count": 45,
   "metadata": {},
   "outputs": [
    {
     "name": "stdout",
     "output_type": "stream",
     "text": [
      "['burgos' 'a coruña' 'bilbao' 'alicante' 'madrid' 'caceres' 'sevilla'\n",
      " 'barcelona' 'valencia' 'zaragoza' 'guadalajara' 'valladolid' 'pamplona'\n",
      " 'murcia' 'palencia']\n",
      "15\n"
     ]
    }
   ],
   "source": [
    "print(customer_df['city'].unique())\n",
    "print(customer_df['city'].nunique())"
   ]
  },
  {
   "cell_type": "code",
   "execution_count": 46,
   "metadata": {},
   "outputs": [],
   "source": [
    "socio_df.columns = socio_df.columns.str.strip().str.lower().str.replace('.', '_').str.replace(' ', '_')"
   ]
  },
  {
   "cell_type": "code",
   "execution_count": 47,
   "metadata": {},
   "outputs": [],
   "source": [
    "# change Palencia to valencia\n",
    "\n",
    "socio_df.loc[socio_df['city'] == 'valencia', 'city'] = 'Valencia'\n",
    "socio_df.loc[socio_df['city'] == ' Madrid ', 'city'] = 'Madrid'\n",
    "socio_df.loc[socio_df['city'] == ' Burgos', 'city'] = 'Burgos'\n",
    "socio_df.loc[socio_df['city'] == 'alicante', 'city'] = 'Alicante'\n",
    "socio_df.loc[socio_df['city'] == 'murcia', 'city'] = 'Murcia'\n"
   ]
  },
  {
   "cell_type": "code",
   "execution_count": 48,
   "metadata": {},
   "outputs": [
    {
     "name": "stdout",
     "output_type": "stream",
     "text": [
      "['Pamplona' 'A Coruña' 'Valladolid' 'Alicante' 'Bilbao' 'Zaragoza'\n",
      " 'Sevilla' 'Barcelona' 'Madrid' 'Valencia' 'Palencia' 'Guadalajara'\n",
      " 'Caceres' 'Burgos' 'Murcia']\n",
      "15\n"
     ]
    }
   ],
   "source": [
    "print(socio_df['city'].unique())\n",
    "print(socio_df['city'].nunique())"
   ]
  },
  {
   "cell_type": "code",
   "execution_count": 49,
   "metadata": {},
   "outputs": [],
   "source": [
    "# set socio_df city to lower case\n",
    "\n",
    "socio_df['city'] = socio_df['city'].str.lower()"
   ]
  },
  {
   "cell_type": "code",
   "execution_count": 50,
   "metadata": {},
   "outputs": [],
   "source": [
    "merged_df = pd.merge(customer_df, socio_df, on='city', how='left')"
   ]
  },
  {
   "cell_type": "code",
   "execution_count": 51,
   "metadata": {},
   "outputs": [
    {
     "data": {
      "text/plain": [
       "distance                          0\n",
       "city                              0\n",
       "store_size                        0\n",
       "opening_hours                     0\n",
       "phone_number                      0\n",
       "free_wifi                         0\n",
       "parking                           0\n",
       "description                       0\n",
       "zip_code                          0\n",
       "latitude                          0\n",
       "longitude                         0\n",
       "date_opening                      0\n",
       "id                                1\n",
       "sales_representative_latitude     0\n",
       "sales_representative_longitude    0\n",
       "sales_representative_id           0\n",
       "rating                            2\n",
       "number_of_reviews                 0\n",
       "sales_amount                      0\n",
       "number_of_employees               2\n",
       "province                          0\n",
       "population                        0\n",
       "young_population                  0\n",
       "gdb_per_capita                    0\n",
       "unemployment_rate                 0\n",
       "dtype: int64"
      ]
     },
     "execution_count": 51,
     "metadata": {},
     "output_type": "execute_result"
    }
   ],
   "source": [
    "merged_df.isnull().sum()"
   ]
  },
  {
   "cell_type": "markdown",
   "metadata": {},
   "source": [
    "---"
   ]
  },
  {
   "cell_type": "code",
   "execution_count": 52,
   "metadata": {},
   "outputs": [],
   "source": [
    "store_count = merged_df.groupby(['sales_representative_id']).size().reset_index(name='og_store_count')"
   ]
  },
  {
   "cell_type": "code",
   "execution_count": 53,
   "metadata": {},
   "outputs": [
    {
     "name": "stdout",
     "output_type": "stream",
     "text": [
      "0 340\n",
      "2 326\n",
      "5 315\n",
      "6 340\n",
      "7 321\n",
      "10 339\n",
      "14 340\n",
      "16 340\n",
      "20 340\n",
      "21 303\n",
      "22 309\n",
      "23 340\n",
      "26 340\n",
      "29 340\n",
      "30 340\n",
      "31 340\n",
      "32 339\n"
     ]
    }
   ],
   "source": [
    "for index, row in store_count.iterrows():\n",
    "    sales_rep = row['sales_representative_id']\n",
    "    og_store_count = row['og_store_count']\n",
    "    if og_store_count > 300:\n",
    "        print(sales_rep, og_store_count)"
   ]
  },
  {
   "cell_type": "code",
   "execution_count": 54,
   "metadata": {},
   "outputs": [],
   "source": [
    "city_count = merged_df.groupby('sales_representative_id')['city'].apply(lambda x: ', '.join(x.unique())).reset_index(name='city')\n",
    "store_count = pd.merge(store_count, city_count, on='sales_representative_id', how='left')"
   ]
  },
  {
   "cell_type": "code",
   "execution_count": 55,
   "metadata": {},
   "outputs": [
    {
     "data": {
      "text/html": [
       "<div>\n",
       "<style scoped>\n",
       "    .dataframe tbody tr th:only-of-type {\n",
       "        vertical-align: middle;\n",
       "    }\n",
       "\n",
       "    .dataframe tbody tr th {\n",
       "        vertical-align: top;\n",
       "    }\n",
       "\n",
       "    .dataframe thead th {\n",
       "        text-align: right;\n",
       "    }\n",
       "</style>\n",
       "<table border=\"1\" class=\"dataframe\">\n",
       "  <thead>\n",
       "    <tr style=\"text-align: right;\">\n",
       "      <th></th>\n",
       "      <th>sales_representative_id</th>\n",
       "      <th>og_store_count</th>\n",
       "      <th>city</th>\n",
       "    </tr>\n",
       "  </thead>\n",
       "  <tbody>\n",
       "    <tr>\n",
       "      <th>0</th>\n",
       "      <td>0</td>\n",
       "      <td>340</td>\n",
       "      <td>a coruña</td>\n",
       "    </tr>\n",
       "    <tr>\n",
       "      <th>1</th>\n",
       "      <td>1</td>\n",
       "      <td>257</td>\n",
       "      <td>alicante</td>\n",
       "    </tr>\n",
       "    <tr>\n",
       "      <th>2</th>\n",
       "      <td>2</td>\n",
       "      <td>326</td>\n",
       "      <td>madrid</td>\n",
       "    </tr>\n",
       "    <tr>\n",
       "      <th>3</th>\n",
       "      <td>3</td>\n",
       "      <td>283</td>\n",
       "      <td>barcelona</td>\n",
       "    </tr>\n",
       "    <tr>\n",
       "      <th>4</th>\n",
       "      <td>4</td>\n",
       "      <td>273</td>\n",
       "      <td>sevilla</td>\n",
       "    </tr>\n",
       "    <tr>\n",
       "      <th>5</th>\n",
       "      <td>5</td>\n",
       "      <td>315</td>\n",
       "      <td>bilbao</td>\n",
       "    </tr>\n",
       "    <tr>\n",
       "      <th>6</th>\n",
       "      <td>6</td>\n",
       "      <td>340</td>\n",
       "      <td>sevilla</td>\n",
       "    </tr>\n",
       "    <tr>\n",
       "      <th>7</th>\n",
       "      <td>7</td>\n",
       "      <td>321</td>\n",
       "      <td>pamplona, zaragoza</td>\n",
       "    </tr>\n",
       "    <tr>\n",
       "      <th>8</th>\n",
       "      <td>8</td>\n",
       "      <td>253</td>\n",
       "      <td>caceres</td>\n",
       "    </tr>\n",
       "    <tr>\n",
       "      <th>9</th>\n",
       "      <td>9</td>\n",
       "      <td>230</td>\n",
       "      <td>valencia</td>\n",
       "    </tr>\n",
       "    <tr>\n",
       "      <th>10</th>\n",
       "      <td>10</td>\n",
       "      <td>339</td>\n",
       "      <td>bilbao</td>\n",
       "    </tr>\n",
       "    <tr>\n",
       "      <th>11</th>\n",
       "      <td>11</td>\n",
       "      <td>264</td>\n",
       "      <td>madrid</td>\n",
       "    </tr>\n",
       "    <tr>\n",
       "      <th>12</th>\n",
       "      <td>12</td>\n",
       "      <td>230</td>\n",
       "      <td>madrid, guadalajara</td>\n",
       "    </tr>\n",
       "    <tr>\n",
       "      <th>13</th>\n",
       "      <td>13</td>\n",
       "      <td>284</td>\n",
       "      <td>barcelona</td>\n",
       "    </tr>\n",
       "    <tr>\n",
       "      <th>14</th>\n",
       "      <td>14</td>\n",
       "      <td>340</td>\n",
       "      <td>madrid</td>\n",
       "    </tr>\n",
       "    <tr>\n",
       "      <th>15</th>\n",
       "      <td>15</td>\n",
       "      <td>230</td>\n",
       "      <td>alicante, murcia</td>\n",
       "    </tr>\n",
       "    <tr>\n",
       "      <th>16</th>\n",
       "      <td>16</td>\n",
       "      <td>340</td>\n",
       "      <td>alicante</td>\n",
       "    </tr>\n",
       "    <tr>\n",
       "      <th>17</th>\n",
       "      <td>17</td>\n",
       "      <td>230</td>\n",
       "      <td>valencia</td>\n",
       "    </tr>\n",
       "    <tr>\n",
       "      <th>18</th>\n",
       "      <td>18</td>\n",
       "      <td>286</td>\n",
       "      <td>sevilla</td>\n",
       "    </tr>\n",
       "    <tr>\n",
       "      <th>19</th>\n",
       "      <td>19</td>\n",
       "      <td>230</td>\n",
       "      <td>valencia, alicante</td>\n",
       "    </tr>\n",
       "    <tr>\n",
       "      <th>20</th>\n",
       "      <td>20</td>\n",
       "      <td>340</td>\n",
       "      <td>sevilla</td>\n",
       "    </tr>\n",
       "    <tr>\n",
       "      <th>21</th>\n",
       "      <td>21</td>\n",
       "      <td>303</td>\n",
       "      <td>barcelona</td>\n",
       "    </tr>\n",
       "    <tr>\n",
       "      <th>22</th>\n",
       "      <td>22</td>\n",
       "      <td>309</td>\n",
       "      <td>a coruña</td>\n",
       "    </tr>\n",
       "    <tr>\n",
       "      <th>23</th>\n",
       "      <td>23</td>\n",
       "      <td>340</td>\n",
       "      <td>madrid</td>\n",
       "    </tr>\n",
       "    <tr>\n",
       "      <th>24</th>\n",
       "      <td>24</td>\n",
       "      <td>230</td>\n",
       "      <td>barcelona</td>\n",
       "    </tr>\n",
       "    <tr>\n",
       "      <th>25</th>\n",
       "      <td>25</td>\n",
       "      <td>230</td>\n",
       "      <td>burgos, palencia, pamplona, valladolid</td>\n",
       "    </tr>\n",
       "    <tr>\n",
       "      <th>26</th>\n",
       "      <td>26</td>\n",
       "      <td>340</td>\n",
       "      <td>barcelona</td>\n",
       "    </tr>\n",
       "    <tr>\n",
       "      <th>27</th>\n",
       "      <td>27</td>\n",
       "      <td>229</td>\n",
       "      <td>valencia</td>\n",
       "    </tr>\n",
       "    <tr>\n",
       "      <th>28</th>\n",
       "      <td>28</td>\n",
       "      <td>263</td>\n",
       "      <td>valladolid</td>\n",
       "    </tr>\n",
       "    <tr>\n",
       "      <th>29</th>\n",
       "      <td>29</td>\n",
       "      <td>340</td>\n",
       "      <td>madrid</td>\n",
       "    </tr>\n",
       "    <tr>\n",
       "      <th>30</th>\n",
       "      <td>30</td>\n",
       "      <td>340</td>\n",
       "      <td>zaragoza</td>\n",
       "    </tr>\n",
       "    <tr>\n",
       "      <th>31</th>\n",
       "      <td>31</td>\n",
       "      <td>340</td>\n",
       "      <td>madrid</td>\n",
       "    </tr>\n",
       "    <tr>\n",
       "      <th>32</th>\n",
       "      <td>32</td>\n",
       "      <td>339</td>\n",
       "      <td>barcelona</td>\n",
       "    </tr>\n",
       "  </tbody>\n",
       "</table>\n",
       "</div>"
      ],
      "text/plain": [
       "    sales_representative_id  og_store_count  \\\n",
       "0                         0             340   \n",
       "1                         1             257   \n",
       "2                         2             326   \n",
       "3                         3             283   \n",
       "4                         4             273   \n",
       "5                         5             315   \n",
       "6                         6             340   \n",
       "7                         7             321   \n",
       "8                         8             253   \n",
       "9                         9             230   \n",
       "10                       10             339   \n",
       "11                       11             264   \n",
       "12                       12             230   \n",
       "13                       13             284   \n",
       "14                       14             340   \n",
       "15                       15             230   \n",
       "16                       16             340   \n",
       "17                       17             230   \n",
       "18                       18             286   \n",
       "19                       19             230   \n",
       "20                       20             340   \n",
       "21                       21             303   \n",
       "22                       22             309   \n",
       "23                       23             340   \n",
       "24                       24             230   \n",
       "25                       25             230   \n",
       "26                       26             340   \n",
       "27                       27             229   \n",
       "28                       28             263   \n",
       "29                       29             340   \n",
       "30                       30             340   \n",
       "31                       31             340   \n",
       "32                       32             339   \n",
       "\n",
       "                                      city  \n",
       "0                                 a coruña  \n",
       "1                                 alicante  \n",
       "2                                   madrid  \n",
       "3                                barcelona  \n",
       "4                                  sevilla  \n",
       "5                                   bilbao  \n",
       "6                                  sevilla  \n",
       "7                       pamplona, zaragoza  \n",
       "8                                  caceres  \n",
       "9                                 valencia  \n",
       "10                                  bilbao  \n",
       "11                                  madrid  \n",
       "12                     madrid, guadalajara  \n",
       "13                               barcelona  \n",
       "14                                  madrid  \n",
       "15                        alicante, murcia  \n",
       "16                                alicante  \n",
       "17                                valencia  \n",
       "18                                 sevilla  \n",
       "19                      valencia, alicante  \n",
       "20                                 sevilla  \n",
       "21                               barcelona  \n",
       "22                                a coruña  \n",
       "23                                  madrid  \n",
       "24                               barcelona  \n",
       "25  burgos, palencia, pamplona, valladolid  \n",
       "26                               barcelona  \n",
       "27                                valencia  \n",
       "28                              valladolid  \n",
       "29                                  madrid  \n",
       "30                                zaragoza  \n",
       "31                                  madrid  \n",
       "32                               barcelona  "
      ]
     },
     "execution_count": 55,
     "metadata": {},
     "output_type": "execute_result"
    }
   ],
   "source": [
    "store_count"
   ]
  },
  {
   "cell_type": "code",
   "execution_count": 56,
   "metadata": {},
   "outputs": [
    {
     "data": {
      "text/plain": [
       "(204, 20)"
      ]
     },
     "execution_count": 56,
     "metadata": {},
     "output_type": "execute_result"
    }
   ],
   "source": [
    "sales_25 = customer_df[customer_df['sales_representative_id'] == 19]\n",
    "\n",
    "sales_25[sales_25['city'] == 'valencia'].shape"
   ]
  },
  {
   "cell_type": "code",
   "execution_count": 57,
   "metadata": {},
   "outputs": [],
   "source": [
    "# save store_count to csv\n",
    "\n",
    "store_count.to_csv('/Users/jessicahsieh/Documents/Deloitte Capstone/store_count.csv', index=False)"
   ]
  }
 ],
 "metadata": {
  "kernelspec": {
   "display_name": "Python 3",
   "language": "python",
   "name": "python3"
  },
  "language_info": {
   "codemirror_mode": {
    "name": "ipython",
    "version": 3
   },
   "file_extension": ".py",
   "mimetype": "text/x-python",
   "name": "python",
   "nbconvert_exporter": "python",
   "pygments_lexer": "ipython3",
   "version": "3.11.5"
  }
 },
 "nbformat": 4,
 "nbformat_minor": 2
}
