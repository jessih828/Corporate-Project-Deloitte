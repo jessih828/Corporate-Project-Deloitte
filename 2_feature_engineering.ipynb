{
 "cells": [
  {
   "cell_type": "markdown",
   "metadata": {},
   "source": [
    "### Notebook Overview\n",
    "\n",
    "In this notebook, these tasks are summarized below:\n",
    "\n",
    "1. Extracted store sub-categories combines T5 model with manual rule-based classification\n",
    "2. Created 4 more new columns for analysis\n",
    "3. Reorganized and saved the cleaned data to CSV files\n",
    "\n",
    "---"
   ]
  },
  {
   "cell_type": "code",
   "execution_count": 1,
   "metadata": {},
   "outputs": [],
   "source": [
    "import pandas as pd \n",
    "import numpy as np\n",
    "\n",
    "import matplotlib.pyplot as plt\n",
    "import seaborn as sns   \n",
    "import plotly.express as px\n",
    "from transformers import T5Tokenizer, T5ForConditionalGeneration"
   ]
  },
  {
   "cell_type": "code",
   "execution_count": 2,
   "metadata": {},
   "outputs": [],
   "source": [
    "df = pd.read_csv('/Users/jessicahsieh/Documents/Deloitte Capstone/customers_df.csv')\n",
    "\n",
    "poten_df = pd.read_csv('/Users/jessicahsieh/Documents/Deloitte Capstone/potential_customers_df.csv')"
   ]
  },
  {
   "cell_type": "markdown",
   "metadata": {},
   "source": [
    "### Create sub category\n",
    "\n",
    "Explain: The code combines manual rule-based classification with the T5 model\n",
    "\n",
    "The reason for combining both is that the T5 model handles more ambiguous cases, and rule-based classification quickly and accurately handles straightforward cases based on predefined keywords\n",
    "\n",
    "By combining these approaches, the aim is to improve classification accuracy and robustness"
   ]
  },
  {
   "cell_type": "code",
   "execution_count": 3,
   "metadata": {},
   "outputs": [],
   "source": [
    "descriptions_1 = df['description'].tolist()\n",
    "descriptions_2 = poten_df['description'].tolist()\n",
    "descriptions = descriptions_1 + descriptions_2\n",
    "\n",
    "# smaller case\n",
    "descriptions = [str(desc).lower() for desc in descriptions]"
   ]
  },
  {
   "cell_type": "code",
   "execution_count": 4,
   "metadata": {},
   "outputs": [
    {
     "name": "stderr",
     "output_type": "stream",
     "text": [
      "You are using the default legacy behaviour of the <class 'transformers.models.t5.tokenization_t5.T5Tokenizer'>. This is expected, and simply means that the `legacy` (previous) behavior will be used so nothing changes for you. If you want to use the new behaviour, set `legacy=False`. This should only be set if you understand what it means, and thoroughly read the reason why this was added as explained in https://github.com/huggingface/transformers/pull/24565\n",
      "Special tokens have been added in the vocabulary, make sure the associated word embeddings are fine-tuned or trained.\n"
     ]
    }
   ],
   "source": [
    "# Load the T5 model and tokenizer\n",
    "tokenizer = T5Tokenizer.from_pretrained(\"t5-small\", model_max_length=512)\n",
    "model = T5ForConditionalGeneration.from_pretrained(\"t5-small\")"
   ]
  },
  {
   "cell_type": "code",
   "execution_count": 5,
   "metadata": {},
   "outputs": [],
   "source": [
    "categories = {\n",
    "    'bar': ['hub', 'jazz', 'crafted', 'craft','bar'],\n",
    "    'pub': ['pub', 'irish'],\n",
    "    'sport bar': ['sports'],\n",
    "    'japanese restaurant': ['japansese'], #there is typo in the description\n",
    "    'italian restaurant': ['pasta', 'pizza','italian'],\n",
    "    'french restaurant': ['french'],\n",
    "    'spanish restaurant': ['paella', 'small plates'],\n",
    "    'indian restaurant': ['curries', 'naan', 'mumbai'],\n",
    "    'chinese restaurant': ['dim sum', 'szechuan'],\n",
    "    'fusion restaurant': ['east meets west'],\n",
    "    'vegetarian restaurant': ['plant-based'],\n",
    "    'budget hotel': ['affordable price', 'thrifty traveler', 'affordable rates', 'no-frills'],\n",
    "    'eco-friendly hotel': ['sustainable retreat', 'eco-friendly'],\n",
    "    'boutique hotel': ['cozy retreat', 'boutique-inspired', 'boutique hotel'],\n",
    "    'urban hotel': ['city center', 'urban'],\n",
    "    'luxury hotel': ['luxurious', 'luxurious haven', 'luxury retreat', 'luxury hotel'],\n",
    "    'per-friendly hotel': ['pet', 'furry'],\n",
    "    'steakhouse': ['steakhouse','meat']\n",
    "}"
   ]
  },
  {
   "cell_type": "code",
   "execution_count": 6,
   "metadata": {},
   "outputs": [],
   "source": [
    "def classify_with_rules(description):\n",
    "    description_lower = description.lower()\n",
    "    for category, keywords in categories.items():\n",
    "        for keyword in keywords:\n",
    "            if keyword in description_lower:\n",
    "                return category\n",
    "    return None\n"
   ]
  },
  {
   "cell_type": "code",
   "execution_count": 7,
   "metadata": {},
   "outputs": [],
   "source": [
    "def ask_question_abstractive(question, context):\n",
    "    input_text = f\"answer: {question} context: {context}\"\n",
    "    inputs = tokenizer(input_text, return_tensors=\"pt\", padding=True, truncation=True)\n",
    "    outputs = model.generate(inputs[\"input_ids\"], max_length=128, num_return_sequences=1)\n",
    "    answer = tokenizer.decode(outputs[0], skip_special_tokens=True)\n",
    "    return answer"
   ]
  },
  {
   "cell_type": "code",
   "execution_count": 8,
   "metadata": {},
   "outputs": [],
   "source": [
    "sub_categories = []\n",
    "\n",
    "for description in descriptions:\n",
    "    rule_based_category = classify_with_rules(description)\n",
    "    if rule_based_category:\n",
    "        sub_categories.append(rule_based_category)\n",
    "    else:\n",
    "        question = \"What is the store sub-category?\"\n",
    "        answer = ask_question_abstractive(question, description)\n",
    "        sub_categories.append(answer)"
   ]
  },
  {
   "cell_type": "code",
   "execution_count": 9,
   "metadata": {},
   "outputs": [],
   "source": [
    "# Split the sub-categories back to the respective dataframes\n",
    "sub_categories_1 = sub_categories[:len(descriptions_1)]\n",
    "sub_categories_2 = sub_categories[len(descriptions_1):]"
   ]
  },
  {
   "cell_type": "code",
   "execution_count": 10,
   "metadata": {},
   "outputs": [
    {
     "data": {
      "text/plain": [
       "store_sub_category\n",
       "luxury hotel                1659\n",
       "bar                         1435\n",
       "boutique hotel               895\n",
       "pub                          549\n",
       "french restaurant            364\n",
       "japanese restaurant          360\n",
       "steakhouse                   358\n",
       "chinese restaurant           356\n",
       "mediterranean restaurant     352\n",
       "italian restaurant           348\n",
       "fusion restaurant            343\n",
       "greek restaurant             342\n",
       "spanish restaurant           336\n",
       "mexican restaurant           335\n",
       "bangkok                      333\n",
       "indian restaurant            308\n",
       "urban hotel                  288\n",
       "budget hotel                 283\n",
       "eco-friendly hotel           263\n",
       "sport bar                    130\n",
       "Name: count, dtype: int64"
      ]
     },
     "execution_count": 10,
     "metadata": {},
     "output_type": "execute_result"
    }
   ],
   "source": [
    "df['store_sub_category'] = sub_categories_1\n",
    "df['store_sub_category'] = df['store_sub_category'].str.lower()\n",
    "df['store_sub_category'].value_counts()"
   ]
  },
  {
   "cell_type": "code",
   "execution_count": 11,
   "metadata": {},
   "outputs": [
    {
     "data": {
      "text/plain": [
       "store_sub_category\n",
       "luxury hotel                5681\n",
       "bar                         5140\n",
       "boutique hotel              3443\n",
       "indian restaurant           2759\n",
       "urban hotel                 2238\n",
       "pub                         2171\n",
       "greek restaurant            1442\n",
       "fusion restaurant           1406\n",
       "steakhouse                  1395\n",
       "chinese restaurant          1367\n",
       "spanish dishes              1366\n",
       "italian restaurant          1351\n",
       "mexican restaurant          1332\n",
       "sushi rolls                 1331\n",
       "french restaurant           1322\n",
       "vegetarian restaurant       1288\n",
       "greece, italy, and spain    1282\n",
       "eco-friendly hotel          1145\n",
       "budget hotel                1112\n",
       "Name: count, dtype: int64"
      ]
     },
     "execution_count": 11,
     "metadata": {},
     "output_type": "execute_result"
    }
   ],
   "source": [
    "poten_df['store_sub_category'] = sub_categories_2\n",
    "poten_df['store_sub_category'] = poten_df['store_sub_category'].str.lower()\n",
    "poten_df['store_sub_category'].value_counts()"
   ]
  },
  {
   "cell_type": "markdown",
   "metadata": {},
   "source": [
    "#### Fix the category that is wrongly categorized"
   ]
  },
  {
   "cell_type": "markdown",
   "metadata": {},
   "source": [
    "1. incorrect category in df"
   ]
  },
  {
   "cell_type": "code",
   "execution_count": 12,
   "metadata": {},
   "outputs": [
    {
     "name": "stdout",
     "output_type": "stream",
     "text": [
      "['Warm aromas of lemongrass and galangal waft through the doors of this cozy Thai restaurant, where vibrant colors and intricate carvings transport diners to the bustling streets of Bangkok.']\n"
     ]
    }
   ],
   "source": [
    "bangkok = df[df['store_sub_category'] == 'bangkok']\n",
    "print(bangkok['description'].unique())"
   ]
  },
  {
   "cell_type": "code",
   "execution_count": 13,
   "metadata": {},
   "outputs": [
    {
     "name": "stdout",
     "output_type": "stream",
     "text": [
      "[]\n"
     ]
    }
   ],
   "source": [
    "# look into the description of spanish restaurant\n",
    "\n",
    "spanish_restaurant = df[df['store_sub_category'] == 'per-friendly hotel']\n",
    "print(spanish_restaurant['description'].unique())"
   ]
  },
  {
   "cell_type": "code",
   "execution_count": 14,
   "metadata": {},
   "outputs": [
    {
     "name": "stdout",
     "output_type": "stream",
     "text": [
      "['Vibrant Mediterranean restaurant with warm, golden hues and rustic wooden accents, serving authentic flavors of Greece, Italy, and Spain in cozy, intimate ambiance.']\n"
     ]
    }
   ],
   "source": [
    "mix_country = poten_df[poten_df['store_sub_category'] == 'greece, italy, and spain']\n",
    "\n",
    "print(mix_country['description'].unique())"
   ]
  },
  {
   "cell_type": "code",
   "execution_count": 15,
   "metadata": {},
   "outputs": [],
   "source": [
    "def update_store_sub_category(dataframe):\n",
    "    dataframe.loc[dataframe['store_sub_category'] == 'medley of small plates', 'store_sub_category'] = 'spanish restaurant'\n",
    "    dataframe.loc[dataframe['store_sub_category'] == 'bangkok', 'store_sub_category'] = 'thai restaurant'\n",
    "    dataframe.loc[dataframe['description'].str.contains('urban', na=False), 'store_sub_category'] = 'urban hotel'\n",
    "    dataframe.loc[dataframe['description'].str.contains('tapas bar', na=False), 'store_sub_category'] = 'bar'\n",
    "    dataframe.loc[dataframe['description'].str.contains('plant-based', na=False), 'store_sub_category'] = 'vegetarian restaurant'\n",
    "    dataframe.loc[dataframe['description'].str.contains('pub', na=False), 'store_sub_category'] = 'pub'\n",
    "    dataframe.loc[dataframe['description'].str.contains('furry', na=False), 'store_sub_category'] = 'pet-friendly hotel'\n",
    "    dataframe.loc[dataframe['store_sub_category'] == 'bella vita', 'store_sub_category'] = 'italian restaurant'\n",
    "    dataframe.loc[dataframe['store_sub_category'] == 'sushi rolls', 'store_sub_category'] = 'japanese restaurant'\n",
    "    dataframe.loc[dataframe['store_sub_category'] == 'greece, italy, and spain', 'store_sub_category'] = 'mediterranean restaurant'\n",
    "    dataframe.loc[dataframe['store_sub_category'] == 'spanish dishes', 'store_sub_category'] = 'spanish restaurant'\n",
    "    \n",
    "    return dataframe"
   ]
  },
  {
   "cell_type": "code",
   "execution_count": 16,
   "metadata": {},
   "outputs": [],
   "source": [
    "# Apply the function to df and poten_df\n",
    "df = update_store_sub_category(df)\n",
    "poten_df = update_store_sub_category(poten_df)"
   ]
  },
  {
   "cell_type": "code",
   "execution_count": 17,
   "metadata": {},
   "outputs": [
    {
     "name": "stdout",
     "output_type": "stream",
     "text": [
      "0\n",
      "0\n"
     ]
    }
   ],
   "source": [
    "print(df['store_sub_category'].isnull().sum())\n",
    "print(poten_df['store_sub_category'].isnull().sum())"
   ]
  },
  {
   "cell_type": "markdown",
   "metadata": {},
   "source": [
    "### Create main category"
   ]
  },
  {
   "cell_type": "code",
   "execution_count": 18,
   "metadata": {},
   "outputs": [],
   "source": [
    "def main_category(store_sub_category):\n",
    "    if 'hotel' in store_sub_category or 'resort' in store_sub_category:\n",
    "        return 'hotel'\n",
    "    elif 'restaurant' in store_sub_category or 'steakhouse' in store_sub_category:\n",
    "        return 'restaurant'\n",
    "    elif 'bar' in store_sub_category or 'pub' in store_sub_category:\n",
    "        return 'bar'\n",
    "    elif 'pub' in store_sub_category:\n",
    "        return 'Pub'\n",
    "    else:\n",
    "        return np.NAN"
   ]
  },
  {
   "cell_type": "code",
   "execution_count": 19,
   "metadata": {},
   "outputs": [],
   "source": [
    "df['store_category'] = df['store_sub_category'].apply(main_category)\n",
    "poten_df['store_category'] = poten_df['store_sub_category'].apply(main_category)"
   ]
  },
  {
   "cell_type": "code",
   "execution_count": 20,
   "metadata": {},
   "outputs": [
    {
     "name": "stdout",
     "output_type": "stream",
     "text": [
      "0\n",
      "0\n"
     ]
    }
   ],
   "source": [
    "print(df['store_category'].isnull().sum())\n",
    "print(poten_df['store_category'].isnull().sum())"
   ]
  },
  {
   "cell_type": "code",
   "execution_count": 21,
   "metadata": {},
   "outputs": [
    {
     "data": {
      "text/plain": [
       "store_category\n",
       "restaurant    46.103559\n",
       "hotel         35.156169\n",
       "bar           18.740272\n",
       "Name: count, dtype: float64"
      ]
     },
     "execution_count": 21,
     "metadata": {},
     "output_type": "execute_result"
    }
   ],
   "source": [
    "df['store_category'].value_counts() / df['store_category'].value_counts().sum() * 100"
   ]
  },
  {
   "cell_type": "code",
   "execution_count": 22,
   "metadata": {},
   "outputs": [
    {
     "data": {
      "text/plain": [
       "store_sub_category\n",
       "luxury hotel                17.214901\n",
       "bar                         10.480440\n",
       "pub                          6.910864\n",
       "urban hotel                  6.101484\n",
       "french restaurant            3.777109\n",
       "japanese restaurant          3.735602\n",
       "steakhouse                   3.714849\n",
       "chinese restaurant           3.694096\n",
       "mediterranean restaurant     3.652589\n",
       "italian restaurant           3.611082\n",
       "fusion restaurant            3.559199\n",
       "greek restaurant             3.548822\n",
       "spanish restaurant           3.486562\n",
       "mexican restaurant           3.476186\n",
       "thai restaurant              3.455432\n",
       "vegetarian restaurant        3.196015\n",
       "indian restaurant            3.196015\n",
       "pet-friendly hotel           3.133755\n",
       "boutique hotel               3.040365\n",
       "budget hotel                 2.936599\n",
       "eco-friendly hotel           2.729065\n",
       "sport bar                    1.348968\n",
       "Name: count, dtype: float64"
      ]
     },
     "execution_count": 22,
     "metadata": {},
     "output_type": "execute_result"
    }
   ],
   "source": [
    "df['store_sub_category'].value_counts() / df['store_sub_category'].value_counts().sum() * 100"
   ]
  },
  {
   "cell_type": "markdown",
   "metadata": {},
   "source": [
    "### Create \"sales_per_employee\" column"
   ]
  },
  {
   "cell_type": "code",
   "execution_count": 23,
   "metadata": {},
   "outputs": [],
   "source": [
    "df['sales_per_employee'] = df['sales_amount'] / df['number_of_employees']"
   ]
  },
  {
   "cell_type": "markdown",
   "metadata": {},
   "source": [
    "### Create \"opening_duration\" column"
   ]
  },
  {
   "cell_type": "code",
   "execution_count": 24,
   "metadata": {},
   "outputs": [],
   "source": [
    "def calculate_opening_duration(row):\n",
    "    if row['opening_hour'] == row['closing_hour'] and row['opening_hour'] == 0:\n",
    "        return 24.0\n",
    "    elif row['closing_hour'] < row['opening_hour']:\n",
    "        return (24 - row['opening_hour']) + row['closing_hour']\n",
    "    else:\n",
    "        return row['closing_hour'] - row['opening_hour']"
   ]
  },
  {
   "cell_type": "code",
   "execution_count": 25,
   "metadata": {},
   "outputs": [],
   "source": [
    "# Apply the function to calculate the opening duration\n",
    "df['opening_duration'] = df.apply(calculate_opening_duration, axis=1)\n",
    "poten_df['opening_duration'] = poten_df.apply(calculate_opening_duration, axis=1)"
   ]
  },
  {
   "cell_type": "code",
   "execution_count": 26,
   "metadata": {},
   "outputs": [
    {
     "data": {
      "text/plain": [
       "opening_duration\n",
       "12.0    6357\n",
       "24.0    1161\n",
       "17.0    1157\n",
       "7.0      487\n",
       "13.0     475\n",
       "Name: count, dtype: int64"
      ]
     },
     "execution_count": 26,
     "metadata": {},
     "output_type": "execute_result"
    }
   ],
   "source": [
    "df['opening_duration'].value_counts()"
   ]
  },
  {
   "cell_type": "code",
   "execution_count": 27,
   "metadata": {},
   "outputs": [
    {
     "data": {
      "text/plain": [
       "opening_duration\n",
       "12.0    25636\n",
       "24.0     4555\n",
       "17.0     4463\n",
       "13.0     1961\n",
       "7.0      1956\n",
       "Name: count, dtype: int64"
      ]
     },
     "execution_count": 27,
     "metadata": {},
     "output_type": "execute_result"
    }
   ],
   "source": [
    "poten_df['opening_duration'].value_counts()"
   ]
  },
  {
   "cell_type": "markdown",
   "metadata": {},
   "source": [
    "### Create \"operation_time\" column"
   ]
  },
  {
   "cell_type": "code",
   "execution_count": 28,
   "metadata": {},
   "outputs": [],
   "source": [
    "def operation_time(hour):\n",
    "    if 0 <= hour < 6:\n",
    "        return 'Night'\n",
    "    elif 6 <= hour < 12:\n",
    "        return 'Morning'\n",
    "    elif 12 <= hour < 18:\n",
    "        return 'Afternoon'\n",
    "    else:\n",
    "        return 'Evening'\n",
    "\n",
    "df['opening_timeofday'] = df['opening_hour'].apply(operation_time)\n",
    "poten_df['opening_timeofday'] = poten_df['opening_hour'].apply(operation_time)\n",
    "\n",
    "df['closing_timeofday'] = df['closing_hour'].apply(operation_time)\n",
    "poten_df['closing_timeofday'] = poten_df['closing_hour'].apply(operation_time)"
   ]
  },
  {
   "cell_type": "markdown",
   "metadata": {},
   "source": [
    "### Create \"young_pop_percentage\" column"
   ]
  },
  {
   "cell_type": "code",
   "execution_count": 29,
   "metadata": {},
   "outputs": [],
   "source": [
    "def young_pop_percentage(row):\n",
    "    return row['young_population'] / row['population'] * 100\n",
    "\n",
    "df['young_pop_percentage'] = df.apply(young_pop_percentage, axis=1)\n",
    "poten_df['young_pop_percentage'] = poten_df.apply(young_pop_percentage, axis=1)"
   ]
  },
  {
   "cell_type": "markdown",
   "metadata": {},
   "source": [
    "### Create sales_rep_pop column\n",
    "\n",
    "See the percentage of the population managed by each sales representative based on the number of unique stores they oversee"
   ]
  },
  {
   "cell_type": "code",
   "execution_count": 30,
   "metadata": {},
   "outputs": [],
   "source": [
    "# Calculate store_manage for each sales representative\n",
    "store_manage = df.groupby('sales_representative_id')['id'].nunique().reset_index()\n",
    "store_manage.columns = ['sales_representative_id', 'store_manage']\n",
    "\n",
    "# Create a dictionary for fast lookup\n",
    "store_manage_dict = store_manage.set_index('sales_representative_id')['store_manage'].to_dict()\n",
    "\n",
    "# Use the dictionary to compute sales_rep_pop without adding store_manage as a column to df\n",
    "df['sales_rep_pop'] = df['sales_representative_id'].map(store_manage_dict) / df['population'] * 100"
   ]
  },
  {
   "cell_type": "markdown",
   "metadata": {},
   "source": [
    "### Create Distance to the city center"
   ]
  },
  {
   "cell_type": "code",
   "execution_count": 31,
   "metadata": {},
   "outputs": [],
   "source": [
    "def haversine(lat1, lon1, lat2, lon2):\n",
    "    # Convert latitude and longitude from degrees to radians\n",
    "    lat1, lon1, lat2, lon2 = map(np.radians, [lat1, lon1, lat2, lon2])\n",
    "    \n",
    "    # Haversine formula\n",
    "    dlat = lat2 - lat1\n",
    "    dlon = lon2 - lon1\n",
    "    a = np.sin(dlat / 2)**2 + np.cos(lat1) * np.cos(lat2) * np.sin(dlon / 2)**2\n",
    "    c = 2 * np.arcsin(np.sqrt(a))\n",
    "    \n",
    "    # Radius of Earth in kilometers\n",
    "    r = 6371.0\n",
    "    return c * r\n",
    "\n",
    "city_centers = {\n",
    "    'burgos': (42.3411, -3.7018),\n",
    "    'a coruña': (43.3713, -8.396),\n",
    "    'bilbao': (43.2627, -2.9253),\n",
    "    'alicante': (38.3453, -0.4831),\n",
    "    'madrid': (40.4165, -3.7026),\n",
    "    'caceres': (39.4763, -6.3726),\n",
    "    'sevilla': (37.3828, -5.9732),\n",
    "    'barcelona': (41.3888, 2.1589),\n",
    "    'valencia': (39.4698, -0.3774),\n",
    "    'zaragoza': (41.6561, -0.8773),\n",
    "    'guadalajara': (40.633, -3.167),\n",
    "    'valladolid': (41.6552, -4.7237),\n",
    "    'pamplona': (42.8125, -1.6458),\n",
    "    'murcia': (37.987, -1.13),\n",
    "    'palencia': (42.0095, -4.5283)\n",
    "}\n",
    "\n",
    "def calculate_distance_to_center(row):\n",
    "    city = row['city']\n",
    "    city_lat, city_lon = city_centers[city]\n",
    "    return haversine(row['latitude'], row['longitude'], city_lat, city_lon)\n",
    "\n",
    "df['distance_to_city_center'] = df.apply(calculate_distance_to_center, axis=1)\n",
    "poten_df['distance_to_city_center'] = poten_df.apply(calculate_distance_to_center, axis=1)"
   ]
  },
  {
   "cell_type": "markdown",
   "metadata": {},
   "source": [
    "### Create monthly_avg_sales column"
   ]
  },
  {
   "cell_type": "code",
   "execution_count": 34,
   "metadata": {},
   "outputs": [],
   "source": [
    "df['monthly_avg_sales'] = df['sales_amount'] / 12"
   ]
  },
  {
   "cell_type": "markdown",
   "metadata": {},
   "source": [
    "### Create sales_per_capita"
   ]
  },
  {
   "cell_type": "code",
   "execution_count": 35,
   "metadata": {},
   "outputs": [],
   "source": [
    "\n",
    "df['sales_per_capita'] = df['sales_amount'] / df['population']"
   ]
  },
  {
   "cell_type": "markdown",
   "metadata": {},
   "source": [
    "### Create annual_value columns"
   ]
  },
  {
   "cell_type": "code",
   "execution_count": 36,
   "metadata": {},
   "outputs": [],
   "source": [
    "labels = ['Very Low', 'Low', 'Medium', 'High', 'Very High']\n",
    "\n",
    "quantiles = df['sales_amount'].quantile([0.2, 0.4, 0.6, 0.8])\n",
    "\n",
    "# Define the bin edges including the outliers\n",
    "bins = [-float('inf'), quantiles[0.2], quantiles[0.4], quantiles[0.6], quantiles[0.8], float('inf')]\n",
    "\n",
    "# Apply the custom bins to the data\n",
    "df['customer_value'] = pd.cut(df['sales_amount'], bins=bins, labels=labels)"
   ]
  },
  {
   "cell_type": "code",
   "execution_count": 37,
   "metadata": {},
   "outputs": [],
   "source": [
    "#labels = ['Very Low', 'Low', 'Medium', 'High', 'Very High']\n",
    "\n",
    "# Calculate the quantile-based bins for 'sales_amount'\n",
    "#df['annual_value'] = pd.qcut(df['annual_sales'], q=5, labels=labels)"
   ]
  },
  {
   "cell_type": "markdown",
   "metadata": {},
   "source": [
    "### Reorganized column and save to csv"
   ]
  },
  {
   "cell_type": "code",
   "execution_count": 38,
   "metadata": {},
   "outputs": [],
   "source": [
    "reordered_columns = [\n",
    "    # Store Information\n",
    "    'id', 'store_category', 'store_sub_category', 'description',\n",
    "    # Location\n",
    "    'city', 'latitude', 'longitude', 'distance', 'distance_to_city_center',\n",
    "    # Operational Details\n",
    "    'store_size', 'opening_hour', 'closing_hour', 'opening_duration', 'date_opening', 'opening_timeofday', 'closing_timeofday' ,'parking',\n",
    "    # Demographics\n",
    "    'population', 'young_population', 'young_pop_percentage' ,'gdb_per_capita', 'unemployment_rate', \n",
    "    # Reviews and Ratings\n",
    "    'number_of_reviews', 'rating', 'rating_round',\n",
    "    # Employees\n",
    "    'number_of_employees', 'sales_representative_id', 'sales_rep_pop',\n",
    "    # Financials\n",
    "    'sales_amount', 'sales_per_employee', 'monthly_avg_sales', 'sales_per_capita'\n",
    "]"
   ]
  },
  {
   "cell_type": "code",
   "execution_count": 39,
   "metadata": {},
   "outputs": [],
   "source": [
    "# Reorganize the DataFrame\n",
    "df = df[reordered_columns]"
   ]
  },
  {
   "cell_type": "code",
   "execution_count": 40,
   "metadata": {},
   "outputs": [],
   "source": [
    "# save to CSV\n",
    "df.to_csv('customers_df.csv', index=False)"
   ]
  },
  {
   "cell_type": "code",
   "execution_count": 41,
   "metadata": {},
   "outputs": [],
   "source": [
    " \n",
    "reordered_columns = [\n",
    "    # Store Information\n",
    "    'id', 'store_category', 'store_sub_category', 'description',\n",
    "    # Location\n",
    "    'city', 'latitude', 'longitude', 'distance', 'distance_to_city_center',\n",
    "    # Operational Details\n",
    "    'store_size', 'opening_hour', 'closing_hour', 'opening_duration', 'date_opening', 'opening_timeofday', 'closing_timeofday' , 'parking',\n",
    "    # Demographics\n",
    "    'population', 'young_population', 'young_pop_percentage', 'gdb_per_capita', 'unemployment_rate',\n",
    "    # Reviews and Ratings\n",
    "    'number_of_reviews', 'rating', 'rating_round',\n",
    "    # Employees\n",
    "    'number_of_employees'\n",
    "]"
   ]
  },
  {
   "cell_type": "code",
   "execution_count": 42,
   "metadata": {},
   "outputs": [],
   "source": [
    "# Reorganize the DataFrame\n",
    "poential_df = poten_df[reordered_columns]"
   ]
  },
  {
   "cell_type": "code",
   "execution_count": 43,
   "metadata": {},
   "outputs": [],
   "source": [
    "# save to CSV\n",
    "\n",
    "poential_df.to_csv('potential_customers_df.csv', index=False)"
   ]
  }
 ],
 "metadata": {
  "kernelspec": {
   "display_name": "Python 3",
   "language": "python",
   "name": "python3"
  },
  "language_info": {
   "codemirror_mode": {
    "name": "ipython",
    "version": 3
   },
   "file_extension": ".py",
   "mimetype": "text/x-python",
   "name": "python",
   "nbconvert_exporter": "python",
   "pygments_lexer": "ipython3",
   "version": "3.11.5"
  }
 },
 "nbformat": 4,
 "nbformat_minor": 2
}
